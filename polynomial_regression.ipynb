{
  "nbformat": 4,
  "nbformat_minor": 0,
  "metadata": {
    "colab": {
      "name": "polynomial_regression.ipynb",
      "provenance": []
    },
    "kernelspec": {
      "name": "python3",
      "display_name": "Python 3"
    },
    "language_info": {
      "name": "python"
    }
  },
  "cells": [
    {
      "cell_type": "code",
      "execution_count": null,
      "metadata": {
        "colab": {
          "base_uri": "https://localhost:8080/",
          "height": 265
        },
        "id": "cbGILHhaVckh",
        "outputId": "144cd2e6-cd4f-4d2b-c076-25aa6307b724"
      },
      "outputs": [
        {
          "output_type": "display_data",
          "data": {
            "image/png": "[encoded data removed]",
            "text/plain": [
              "<Figure size 432x288 with 1 Axes>"
            ]
          },
          "metadata": {
            "needs_background": "light"
          }
        }
      ],
      "source": [
        "import numpy as np\n",
        "import matplotlib.pyplot as plt\n",
        "\n",
        "np.random.seed(0)\n",
        "x = 2 - 3 * np.random.normal(0, 1, 20)\n",
        "y = x - 2 * (x ** 2) + 0.5 * (x ** 3) + np.random.normal(-3, 3, 20)\n",
        "plt.scatter(x,y, s=10)\n",
        "plt.show()"
      ]
    },
    {
      "cell_type": "code",
      "source": [
        "x"
      ],
      "metadata": {
        "colab": {
          "base_uri": "https://localhost:8080/"
        },
        "id": "mqFIs6LWMKfG",
        "outputId": "cbae04c0-7e12-4237-acf7-2e7ce8f6f0be"
      },
      "execution_count": null,
      "outputs": [
        {
          "output_type": "execute_result",
          "data": {
            "text/plain": [
              "array([-3.29215704,  0.79952837, -0.93621395, -4.7226796 , -3.60267397,\n",
              "        4.93183364, -0.85026525,  2.45407162,  2.30965656,  0.76820449,\n",
              "        1.56786929, -2.36282052, -0.28311318,  1.63497495,  0.6684103 ,\n",
              "        0.99897702, -2.48223722,  2.61547479,  1.0607969 ,  4.56228722])"
            ]
          },
          "metadata": {},
          "execution_count": 4
        }
      ]
    },
    {
      "cell_type": "code",
      "source": [
        "# transforming the data to include another axis\n",
        "x = x[:, np.newaxis]\n",
        "y = y[:, np.newaxis]\n"
      ],
      "metadata": {
        "id": "W0wzmMriVnsM"
      },
      "execution_count": null,
      "outputs": []
    },
    {
      "cell_type": "code",
      "source": [
        "x.ndim"
      ],
      "metadata": {
        "colab": {
          "base_uri": "https://localhost:8080/"
        },
        "id": "BmABhKJ0MJ0E",
        "outputId": "f78ef6cc-1cbf-46c3-ec53-a819c0573aab"
      },
      "execution_count": null,
      "outputs": [
        {
          "output_type": "execute_result",
          "data": {
            "text/plain": [
              "2"
            ]
          },
          "metadata": {},
          "execution_count": 8
        }
      ]
    },
    {
      "cell_type": "code",
      "source": [
        "import numpy as np\n",
        "import matplotlib.pyplot as plt\n",
        "\n",
        "from sklearn.linear_model import LinearRegression\n",
        "from sklearn.metrics import mean_squared_error, r2_score\n",
        "\n",
        "np.random.seed(0)"
      ],
      "metadata": {
        "id": "vFCb_6a4fkAK"
      },
      "execution_count": null,
      "outputs": []
    },
    {
      "cell_type": "code",
      "source": [
        "model = LinearRegression()\n",
        "model.fit(x, y)\n",
        "y_pred = model.predict(x)\n",
        "\n",
        "plt.scatter(x, y, s=10)\n",
        "plt.plot(x, y_pred, color='r')\n",
        "plt.show()"
      ],
      "metadata": {
        "colab": {
          "base_uri": "https://localhost:8080/",
          "height": 265
        },
        "id": "6gIb77EWd_ok",
        "outputId": "3941da10-152c-45c2-890d-e1f06bafab75"
      },
      "execution_count": null,
      "outputs": [
        {
          "output_type": "display_data",
          "data": {
            "image/png": "[encoded data removed]",
            "text/plain": [
              "<Figure size 432x288 with 1 Axes>"
            ]
          },
          "metadata": {
            "needs_background": "light"
          }
        }
      ]
    },
    {
      "cell_type": "code",
      "source": [
        "rmse = np.sqrt(mean_squared_error(y,y_pred))\n",
        "r2 = r2_score(y,y_pred)\n",
        "print(rmse)\n",
        "print(r2)"
      ],
      "metadata": {
        "colab": {
          "base_uri": "https://localhost:8080/"
        },
        "id": "M-bfnrzdeEap",
        "outputId": "a6451bf4-49f3-4634-d689-6c57f15ebb7f"
      },
      "execution_count": null,
      "outputs": [
        {
          "output_type": "stream",
          "name": "stdout",
          "text": [
            "15.908242501429998\n",
            "0.6386750054827146\n"
          ]
        }
      ]
    },
    {
      "cell_type": "code",
      "source": [
        "from sklearn.preprocessing import PolynomialFeatures\n"
      ],
      "metadata": {
        "id": "MldTLdJqeFk-"
      },
      "execution_count": null,
      "outputs": []
    },
    {
      "cell_type": "code",
      "source": [
        "polynomial_features= PolynomialFeatures(degree=2)\n",
        "x_poly = polynomial_features.fit_transform(x)\n"
      ],
      "metadata": {
        "id": "TjGcmXvuha64"
      },
      "execution_count": null,
      "outputs": []
    },
    {
      "cell_type": "code",
      "source": [
        "x_poly"
      ],
      "metadata": {
        "colab": {
          "base_uri": "https://localhost:8080/"
        },
        "id": "Xa5yY7WxMxvw",
        "outputId": "7a75a271-7786-47cc-cd3a-46fde60283a6"
      },
      "execution_count": null,
      "outputs": [
        {
          "output_type": "execute_result",
          "data": {
            "text/plain": [
              "array([[ 1.        , -3.29215704, 10.83829796],\n",
              "       [ 1.        ,  0.79952837,  0.63924562],\n",
              "       [ 1.        , -0.93621395,  0.87649656],\n",
              "       [ 1.        , -4.7226796 , 22.30370258],\n",
              "       [ 1.        , -3.60267397, 12.97925974],\n",
              "       [ 1.        ,  4.93183364, 24.32298305],\n",
              "       [ 1.        , -0.85026525,  0.722951  ],\n",
              "       [ 1.        ,  2.45407162,  6.02246754],\n",
              "       [ 1.        ,  2.30965656,  5.3345134 ],\n",
              "       [ 1.        ,  0.76820449,  0.59013814],\n",
              "       [ 1.        ,  1.56786929,  2.4582141 ],\n",
              "       [ 1.        , -2.36282052,  5.58292081],\n",
              "       [ 1.        , -0.28311318,  0.08015307],\n",
              "       [ 1.        ,  1.63497495,  2.67314309],\n",
              "       [ 1.        ,  0.6684103 ,  0.44677233],\n",
              "       [ 1.        ,  0.99897702,  0.99795508],\n",
              "       [ 1.        , -2.48223722,  6.16150161],\n",
              "       [ 1.        ,  2.61547479,  6.84070838],\n",
              "       [ 1.        ,  1.0607969 ,  1.12529005],\n",
              "       [ 1.        ,  4.56228722, 20.81446466]])"
            ]
          },
          "metadata": {},
          "execution_count": 15
        }
      ]
    },
    {
      "cell_type": "code",
      "source": [
        "model = LinearRegression()\n",
        "model.fit(x_poly, y)\n",
        "y_poly_pred = model.predict(x_poly)\n"
      ],
      "metadata": {
        "id": "Emz8KZclhtBG"
      },
      "execution_count": null,
      "outputs": []
    },
    {
      "cell_type": "code",
      "source": [
        "rmse = np.sqrt(mean_squared_error(y,y_poly_pred))\n",
        "r2 = r2_score(y,y_poly_pred)\n",
        "print(rmse)\n",
        "print(r2)\n"
      ],
      "metadata": {
        "colab": {
          "base_uri": "https://localhost:8080/"
        },
        "id": "-bBJltw_hx_V",
        "outputId": "0b06b1f3-90d0-4f01-c26f-a26a0f798ae3"
      },
      "execution_count": null,
      "outputs": [
        {
          "output_type": "stream",
          "name": "stdout",
          "text": [
            "10.120437473614711\n",
            "0.8537647164420812\n"
          ]
        }
      ]
    },
    {
      "cell_type": "code",
      "source": [
        "import operator\n",
        "\n",
        "plt.scatter(x, y, s=10)\n",
        "# sort the values of x before line plot\n",
        "sort_axis = operator.itemgetter(0)\n",
        "sorted_zip = sorted(zip(x,y_poly_pred), key=sort_axis)\n",
        "x, y_poly_pred = zip(*sorted_zip)\n",
        "plt.plot(x, y_poly_pred, color='m')\n",
        "plt.show()"
      ],
      "metadata": {
        "colab": {
          "base_uri": "https://localhost:8080/",
          "height": 265
        },
        "id": "Yue3Aabxh2aH",
        "outputId": "6154b4f2-9041-4401-c085-35b720611038"
      },
      "execution_count": null,
      "outputs": [
        {
          "output_type": "display_data",
          "data": {
            "image/png": "[encoded data removed]",
            "text/plain": [
              "<Figure size 432x288 with 1 Axes>"
            ]
          },
          "metadata": {
            "needs_background": "light"
          }
        }
      ]
    },
    {
      "cell_type": "code",
      "source": [
        "import operator\n",
        "polynomial_features= PolynomialFeatures(degree=3)\n",
        "x_poly = polynomial_features.fit_transform(x)\n",
        "model = LinearRegression()\n",
        "model.fit(x_poly, y)\n",
        "y_poly_pred = model.predict(x_poly)\n",
        "rmse = np.sqrt(mean_squared_error(y,y_poly_pred))\n",
        "r2 = r2_score(y,y_poly_pred)\n",
        "print(rmse)\n",
        "print(r2)\n",
        "plt.scatter(x, y, s=10)\n",
        "# sort the values of x before line plot\n",
        "sort_axis = operator.itemgetter(0)\n",
        "sorted_zip = sorted(zip(x,y_poly_pred), key=sort_axis)\n",
        "x, y_poly_pred = zip(*sorted_zip)\n",
        "plt.plot(x, y_poly_pred, color='m')\n",
        "plt.show()"
      ],
      "metadata": {
        "colab": {
          "base_uri": "https://localhost:8080/",
          "height": 300
        },
        "id": "Q8hmSNNFh_f5",
        "outputId": "1de7177e-ab97-43ad-ca5d-bc3980711c94"
      },
      "execution_count": null,
      "outputs": [
        {
          "output_type": "stream",
          "name": "stdout",
          "text": [
            "23.188985407100322\n",
            "0.23225482806073816\n"
          ]
        },
        {
          "output_type": "display_data",
          "data": {
            "image/png": "[encoded data removed]",
            "text/plain": [
              "<Figure size 432x288 with 1 Axes>"
            ]
          },
          "metadata": {
            "needs_background": "light"
          }
        }
      ]
    },
    {
      "cell_type": "code",
      "source": [
        "# splitting the data\n",
        "from sklearn.model_selection import train_test_split\n",
        "train_x, test_x, train_y, test_y = train_test_split(x, y, \n",
        "                                                    train_size=0.5,\n",
        "                                                    test_size=0.5,\n",
        "                                                    random_state=48)"
      ],
      "metadata": {
        "id": "-SFBNu8HrYlj"
      },
      "execution_count": 19,
      "outputs": []
    },
    {
      "cell_type": "code",
      "source": [
        "train_x"
      ],
      "metadata": {
        "id": "ynP1ZmtsrYsV",
        "colab": {
          "base_uri": "https://localhost:8080/"
        },
        "outputId": "13a1db14-e2f3-4e47-b2dd-bb3cab67389c"
      },
      "execution_count": 20,
      "outputs": [
        {
          "output_type": "execute_result",
          "data": {
            "text/plain": [
              "[array([1.56786929]),\n",
              " array([2.30965656]),\n",
              " array([-3.29215704]),\n",
              " array([1.63497495]),\n",
              " array([-0.85026525]),\n",
              " array([4.93183364]),\n",
              " array([2.45407162]),\n",
              " array([-2.36282052]),\n",
              " array([2.61547479]),\n",
              " array([-4.7226796])]"
            ]
          },
          "metadata": {},
          "execution_count": 20
        }
      ]
    },
    {
      "cell_type": "code",
      "source": [
        "from sklearn.preprocessing import PolynomialFeatures\n",
        "\n",
        "def create_polynomial_regression_model(degree):\n",
        "  \"Creates a polynomial regression model for the given degree\"\n",
        "  \n",
        "  poly_features = PolynomialFeatures(degree=degree)\n",
        "  \n",
        "  # transforms the existing features to higher degree features.\n",
        "  X_train_poly = poly_features.fit_transform(train_x)\n",
        "  \n",
        "  # fit the transformed features to Linear Regression\n",
        "  poly_model = LinearRegression()\n",
        "  poly_model.fit(X_train_poly, train_y)\n",
        "  \n",
        "  # predicting on training data-set\n",
        "  y_train_predicted = poly_model.predict(X_train_poly)\n",
        "  \n",
        "  # predicting on test data-set\n",
        "  y_test_predict = poly_model.predict(poly_features.fit_transform(test_x))\n",
        "  \n",
        "  # evaluating the model on training dataset\n",
        "  rmse_train = np.sqrt(mean_squared_error(train_y, y_train_predicted))\n",
        "  r2_train = r2_score(train_y, y_train_predicted)\n",
        "  \n",
        "  # evaluating the model on test dataset\n",
        "  rmse_test = np.sqrt(mean_squared_error(test_y, y_test_predict))\n",
        "  r2_test = r2_score(test_y, y_test_predict)\n",
        "  \n",
        "  print(\"The model performance for the training set\")\n",
        "  print(\"-------------------------------------------\")\n",
        "  print(\"RMSE of training set is {}\".format(rmse_train))\n",
        "  print(\"R2 score of training set is {}\".format(r2_train))\n",
        "  \n",
        "  print(\"\\n\")\n",
        "  \n",
        "  print(\"The model performance for the test set\")\n",
        "  print(\"-------------------------------------------\")\n",
        "  print(\"RMSE of test set is {}\".format(rmse_test))\n",
        "  print(\"R2 score of test set is {}\".format(r2_test))"
      ],
      "metadata": {
        "id": "5bP6faIyipER"
      },
      "execution_count": 21,
      "outputs": []
    },
    {
      "cell_type": "code",
      "source": [
        "create_polynomial_regression_model(2)\n"
      ],
      "metadata": {
        "colab": {
          "base_uri": "https://localhost:8080/"
        },
        "id": "AZtQktV2i3L7",
        "outputId": "8242d74e-c40e-4533-a9ee-a491476b61d6"
      },
      "execution_count": 22,
      "outputs": [
        {
          "output_type": "stream",
          "name": "stdout",
          "text": [
            "The model performance for the training set\n",
            "-------------------------------------------\n",
            "RMSE of training set is 14.067914844158866\n",
            "R2 score of training set is 0.48442696633198423\n",
            "\n",
            "\n",
            "The model performance for the test set\n",
            "-------------------------------------------\n",
            "RMSE of test set is 29.712703016321385\n",
            "R2 score of test set is 0.13178185408631016\n"
          ]
        }
      ]
    },
    {
      "cell_type": "code",
      "source": [
        ""
      ],
      "metadata": {
        "id": "EZlQ587YpuxE"
      },
      "execution_count": null,
      "outputs": []
    }
  ]
}
