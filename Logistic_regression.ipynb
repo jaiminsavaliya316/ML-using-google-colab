{
  "nbformat": 4,
  "nbformat_minor": 0,
  "metadata": {
    "colab": {
      "name": "Logistic regression.ipynb",
      "provenance": []
    },
    "kernelspec": {
      "name": "python3",
      "display_name": "Python 3"
    },
    "language_info": {
      "name": "python"
    }
  },
  "cells": [
    {
      "cell_type": "code",
      "execution_count": 5,
      "metadata": {
        "id": "cWFBVpW-CyYx"
      },
      "outputs": [],
      "source": [
        "import pandas as pd\n",
        "import numpy as np\n",
        "import matplotlib.pyplot as plt\n",
        "%matplotlib inline\n",
        "\n",
        "import seaborn as sns\n",
        "import sklearn\n",
        "from sklearn.model_selection import train_test_split\n",
        "from sklearn.preprocessing import StandardScaler\n",
        "from sklearn.metrics import accuracy_score"
      ]
    },
    {
      "cell_type": "code",
      "source": [
        "df = pd.read_csv(\"https://raw.githubusercontent.com/SahilSinhaLpu/Machine-Learning/master/Datasets/SomvervilleHappines.csv\")\n",
        "# D = decision attribute (D) with values 0 (unhappy) and 1 (happy)\n",
        "# X1 = the availability of information about the city services\n",
        "# X2 = the cost of housing\n",
        "# X3 = the overall quality of public schools\n",
        "# X4 = your trust in the local police\n",
        "# X5 = the maintenance of streets and sidewalks\n",
        "# X6 = the availability of social community events"
      ],
      "metadata": {
        "id": "EudOvuNGC5mw"
      },
      "execution_count": 3,
      "outputs": []
    },
    {
      "cell_type": "code",
      "source": [
        "df"
      ],
      "metadata": {
        "colab": {
          "base_uri": "https://localhost:8080/",
          "height": 423
        },
        "id": "SnahexRpDGSp",
        "outputId": "2244c844-c19a-46cd-a4ce-cebac043884c"
      },
      "execution_count": 4,
      "outputs": [
        {
          "output_type": "execute_result",
          "data": {
            "text/html": [
              "\n",
              "  <div id=\"df-2e6911e3-e272-4d3a-a5ff-48bdf633c5b2\">\n",
              "    <div class=\"colab-df-container\">\n",
              "      <div>\n",
              "<style scoped>\n",
              "    .dataframe tbody tr th:only-of-type {\n",
              "        vertical-align: middle;\n",
              "    }\n",
              "\n",
              "    .dataframe tbody tr th {\n",
              "        vertical-align: top;\n",
              "    }\n",
              "\n",
              "    .dataframe thead th {\n",
              "        text-align: right;\n",
              "    }\n",
              "</style>\n",
              "<table border=\"1\" class=\"dataframe\">\n",
              "  <thead>\n",
              "    <tr style=\"text-align: right;\">\n",
              "      <th></th>\n",
              "      <th>D</th>\n",
              "      <th>X1</th>\n",
              "      <th>X2</th>\n",
              "      <th>X3</th>\n",
              "      <th>X4</th>\n",
              "      <th>X5</th>\n",
              "      <th>X6</th>\n",
              "    </tr>\n",
              "  </thead>\n",
              "  <tbody>\n",
              "    <tr>\n",
              "      <th>0</th>\n",
              "      <td>0</td>\n",
              "      <td>3</td>\n",
              "      <td>3</td>\n",
              "      <td>3</td>\n",
              "      <td>4</td>\n",
              "      <td>2</td>\n",
              "      <td>4</td>\n",
              "    </tr>\n",
              "    <tr>\n",
              "      <th>1</th>\n",
              "      <td>0</td>\n",
              "      <td>3</td>\n",
              "      <td>2</td>\n",
              "      <td>3</td>\n",
              "      <td>5</td>\n",
              "      <td>4</td>\n",
              "      <td>3</td>\n",
              "    </tr>\n",
              "    <tr>\n",
              "      <th>2</th>\n",
              "      <td>1</td>\n",
              "      <td>5</td>\n",
              "      <td>3</td>\n",
              "      <td>3</td>\n",
              "      <td>3</td>\n",
              "      <td>3</td>\n",
              "      <td>5</td>\n",
              "    </tr>\n",
              "    <tr>\n",
              "      <th>3</th>\n",
              "      <td>0</td>\n",
              "      <td>5</td>\n",
              "      <td>4</td>\n",
              "      <td>3</td>\n",
              "      <td>3</td>\n",
              "      <td>3</td>\n",
              "      <td>5</td>\n",
              "    </tr>\n",
              "    <tr>\n",
              "      <th>4</th>\n",
              "      <td>0</td>\n",
              "      <td>5</td>\n",
              "      <td>4</td>\n",
              "      <td>3</td>\n",
              "      <td>3</td>\n",
              "      <td>3</td>\n",
              "      <td>5</td>\n",
              "    </tr>\n",
              "    <tr>\n",
              "      <th>...</th>\n",
              "      <td>...</td>\n",
              "      <td>...</td>\n",
              "      <td>...</td>\n",
              "      <td>...</td>\n",
              "      <td>...</td>\n",
              "      <td>...</td>\n",
              "      <td>...</td>\n",
              "    </tr>\n",
              "    <tr>\n",
              "      <th>138</th>\n",
              "      <td>0</td>\n",
              "      <td>5</td>\n",
              "      <td>3</td>\n",
              "      <td>3</td>\n",
              "      <td>1</td>\n",
              "      <td>3</td>\n",
              "      <td>5</td>\n",
              "    </tr>\n",
              "    <tr>\n",
              "      <th>139</th>\n",
              "      <td>1</td>\n",
              "      <td>5</td>\n",
              "      <td>2</td>\n",
              "      <td>3</td>\n",
              "      <td>4</td>\n",
              "      <td>2</td>\n",
              "      <td>5</td>\n",
              "    </tr>\n",
              "    <tr>\n",
              "      <th>140</th>\n",
              "      <td>1</td>\n",
              "      <td>5</td>\n",
              "      <td>3</td>\n",
              "      <td>3</td>\n",
              "      <td>4</td>\n",
              "      <td>4</td>\n",
              "      <td>5</td>\n",
              "    </tr>\n",
              "    <tr>\n",
              "      <th>141</th>\n",
              "      <td>0</td>\n",
              "      <td>4</td>\n",
              "      <td>3</td>\n",
              "      <td>3</td>\n",
              "      <td>4</td>\n",
              "      <td>4</td>\n",
              "      <td>5</td>\n",
              "    </tr>\n",
              "    <tr>\n",
              "      <th>142</th>\n",
              "      <td>0</td>\n",
              "      <td>5</td>\n",
              "      <td>3</td>\n",
              "      <td>2</td>\n",
              "      <td>5</td>\n",
              "      <td>5</td>\n",
              "      <td>5</td>\n",
              "    </tr>\n",
              "  </tbody>\n",
              "</table>\n",
              "<p>143 rows × 7 columns</p>\n",
              "</div>\n",
              "      <button class=\"colab-df-convert\" onclick=\"convertToInteractive('df-2e6911e3-e272-4d3a-a5ff-48bdf633c5b2')\"\n",
              "              title=\"Convert this dataframe to an interactive table.\"\n",
              "              style=\"display:none;\">\n",
              "        \n",
              "  <svg xmlns=\"http://www.w3.org/2000/svg\" height=\"24px\"viewBox=\"0 0 24 24\"\n",
              "       width=\"24px\">\n",
              "    <path d=\"M0 0h24v24H0V0z\" fill=\"none\"/>\n",
              "    <path d=\"M18.56 5.44l.94 2.06.94-2.06 2.06-.94-2.06-.94-.94-2.06-.94 2.06-2.06.94zm-11 1L8.5 8.5l.94-2.06 2.06-.94-2.06-.94L8.5 2.5l-.94 2.06-2.06.94zm10 10l.94 2.06.94-2.06 2.06-.94-2.06-.94-.94-2.06-.94 2.06-2.06.94z\"/><path d=\"M17.41 7.96l-1.37-1.37c-.4-.4-.92-.59-1.43-.59-.52 0-1.04.2-1.43.59L10.3 9.45l-7.72 7.72c-.78.78-.78 2.05 0 2.83L4 21.41c.39.39.9.59 1.41.59.51 0 1.02-.2 1.41-.59l7.78-7.78 2.81-2.81c.8-.78.8-2.07 0-2.86zM5.41 20L4 18.59l7.72-7.72 1.47 1.35L5.41 20z\"/>\n",
              "  </svg>\n",
              "      </button>\n",
              "      \n",
              "  <style>\n",
              "    .colab-df-container {\n",
              "      display:flex;\n",
              "      flex-wrap:wrap;\n",
              "      gap: 12px;\n",
              "    }\n",
              "\n",
              "    .colab-df-convert {\n",
              "      background-color: #E8F0FE;\n",
              "      border: none;\n",
              "      border-radius: 50%;\n",
              "      cursor: pointer;\n",
              "      display: none;\n",
              "      fill: #1967D2;\n",
              "      height: 32px;\n",
              "      padding: 0 0 0 0;\n",
              "      width: 32px;\n",
              "    }\n",
              "\n",
              "    .colab-df-convert:hover {\n",
              "      background-color: #E2EBFA;\n",
              "      box-shadow: 0px 1px 2px rgba(60, 64, 67, 0.3), 0px 1px 3px 1px rgba(60, 64, 67, 0.15);\n",
              "      fill: #174EA6;\n",
              "    }\n",
              "\n",
              "    [theme=dark] .colab-df-convert {\n",
              "      background-color: #3B4455;\n",
              "      fill: #D2E3FC;\n",
              "    }\n",
              "\n",
              "    [theme=dark] .colab-df-convert:hover {\n",
              "      background-color: #434B5C;\n",
              "      box-shadow: 0px 1px 3px 1px rgba(0, 0, 0, 0.15);\n",
              "      filter: drop-shadow(0px 1px 2px rgba(0, 0, 0, 0.3));\n",
              "      fill: #FFFFFF;\n",
              "    }\n",
              "  </style>\n",
              "\n",
              "      <script>\n",
              "        const buttonEl =\n",
              "          document.querySelector('#df-2e6911e3-e272-4d3a-a5ff-48bdf633c5b2 button.colab-df-convert');\n",
              "        buttonEl.style.display =\n",
              "          google.colab.kernel.accessAllowed ? 'block' : 'none';\n",
              "\n",
              "        async function convertToInteractive(key) {\n",
              "          const element = document.querySelector('#df-2e6911e3-e272-4d3a-a5ff-48bdf633c5b2');\n",
              "          const dataTable =\n",
              "            await google.colab.kernel.invokeFunction('convertToInteractive',\n",
              "                                                     [key], {});\n",
              "          if (!dataTable) return;\n",
              "\n",
              "          const docLinkHtml = 'Like what you see? Visit the ' +\n",
              "            '<a target=\"_blank\" href=https://colab.research.google.com/notebooks/data_table.ipynb>data table notebook</a>'\n",
              "            + ' to learn more about interactive tables.';\n",
              "          element.innerHTML = '';\n",
              "          dataTable['output_type'] = 'display_data';\n",
              "          await google.colab.output.renderOutput(dataTable, element);\n",
              "          const docLink = document.createElement('div');\n",
              "          docLink.innerHTML = docLinkHtml;\n",
              "          element.appendChild(docLink);\n",
              "        }\n",
              "      </script>\n",
              "    </div>\n",
              "  </div>\n",
              "  "
            ],
            "text/plain": [
              "     D  X1  X2  X3  X4  X5  X6\n",
              "0    0   3   3   3   4   2   4\n",
              "1    0   3   2   3   5   4   3\n",
              "2    1   5   3   3   3   3   5\n",
              "3    0   5   4   3   3   3   5\n",
              "4    0   5   4   3   3   3   5\n",
              "..  ..  ..  ..  ..  ..  ..  ..\n",
              "138  0   5   3   3   1   3   5\n",
              "139  1   5   2   3   4   2   5\n",
              "140  1   5   3   3   4   4   5\n",
              "141  0   4   3   3   4   4   5\n",
              "142  0   5   3   2   5   5   5\n",
              "\n",
              "[143 rows x 7 columns]"
            ]
          },
          "metadata": {},
          "execution_count": 4
        }
      ]
    },
    {
      "cell_type": "code",
      "source": [
        "# model construction\n",
        "inp_df = df[['X1','X2','X3','X4','X5','X6']]\n",
        "out_df = df[['D']]\n",
        "X_train, X_test, y_train, y_test = train_test_split(inp_df, out_df, test_size=0.2, random_state=42)"
      ],
      "metadata": {
        "id": "Y5wOBTt_EzRs"
      },
      "execution_count": 9,
      "outputs": []
    },
    {
      "cell_type": "code",
      "source": [
        "y_tr_arr = np.asmatrix(y_train)\n",
        "y_ts_arr = np.asmatrix(y_test)"
      ],
      "metadata": {
        "id": "YyKV8o4GRWj6"
      },
      "execution_count": 12,
      "outputs": []
    },
    {
      "cell_type": "code",
      "source": [
        "y_train.head()\n",
        "y_tr_arr = y_train.values\n",
        "y_ts_arr = y_test.values"
      ],
      "metadata": {
        "id": "OThoq5RFR9fJ"
      },
      "execution_count": 13,
      "outputs": []
    },
    {
      "cell_type": "code",
      "source": [
        "X_tr_arr = X_train\n",
        "X_ts_arr = X_test"
      ],
      "metadata": {
        "id": "ghvx5aBVSETs"
      },
      "execution_count": 14,
      "outputs": []
    },
    {
      "cell_type": "code",
      "source": [
        "print('Input Shape', (X_tr_arr.shape))\n",
        "print('Output Shape', X_test.shape)"
      ],
      "metadata": {
        "colab": {
          "base_uri": "https://localhost:8080/"
        },
        "id": "ZczUmocwSHhB",
        "outputId": "2e947582-e8a2-45f0-b49b-66c595328e7e"
      },
      "execution_count": 15,
      "outputs": [
        {
          "output_type": "stream",
          "name": "stdout",
          "text": [
            "Input Shape (114, 6)\n",
            "Output Shape (29, 6)\n"
          ]
        }
      ]
    },
    {
      "cell_type": "code",
      "source": [
        "def weightInitialization(n_features):\n",
        "    w = np.zeros((1,n_features))\n",
        "    b = 0\n",
        "    return w,b\n",
        "\n",
        "def sigmoid_activation(result):\n",
        "    final_result = 1/(1+np.exp(-result))\n",
        "    return final_result\n",
        "\n",
        "def model_optimize(w, b, X, Y):\n",
        "    m = X.shape[0]\n",
        "    \n",
        "    #Prediction\n",
        "    final_result = sigmoid_activation(np.dot(w,X.T)+b)\n",
        "    Y_T = Y.T\n",
        "    cost = (-1/m)*(np.sum((Y_T*np.log(final_result)) + ((1-Y_T)*(np.log(1-final_result)))))\n",
        "    #\n",
        "    \n",
        "    #Gradient calculation\n",
        "    dw = (1/m)*(np.dot(X.T, (final_result-Y.T).T))\n",
        "    db = (1/m)*(np.sum(final_result-Y.T))\n",
        "    \n",
        "    grads = {\"dw\": dw, \"db\": db}\n",
        "    \n",
        "    return grads, cost\n",
        "\n",
        "\n",
        "def model_predict(w, b, X, Y, learning_rate, no_iterations):\n",
        "    costs = []\n",
        "    for i in range(no_iterations):\n",
        "        #\n",
        "        grads, cost = model_optimize(w,b,X,Y)\n",
        "        #\n",
        "        dw = grads[\"dw\"]\n",
        "        db = grads[\"db\"]\n",
        "        #weight update\n",
        "        w = w - (learning_rate * (dw.T))\n",
        "        b = b - (learning_rate * db)\n",
        "        #\n",
        "        \n",
        "        if (i % 100 == 0):\n",
        "            costs.append(cost)\n",
        "            #print(\"Cost after %i iteration is %f\" %(i, cost))\n",
        "    \n",
        "    #final parameters\n",
        "    coeff = {\"w\": w, \"b\": b}\n",
        "    gradient = {\"dw\": dw, \"db\": db}\n",
        "    \n",
        "    return coeff, gradient, costs\n",
        "\n",
        "def predict(final_pred, m):\n",
        "    y_pred = np.zeros((1,m))\n",
        "    for i in range(final_pred.shape[1]):\n",
        "        if final_pred[0][i] > 0.5:\n",
        "            y_pred[0][i] = 1\n",
        "    return y_pred\n",
        "\n"
      ],
      "metadata": {
        "id": "BlB2jQB5SLBo"
      },
      "execution_count": 16,
      "outputs": []
    },
    {
      "cell_type": "code",
      "source": [
        "#Get number of features\n",
        "n_features = X_tr_arr.shape[1]\n",
        "print('Number of Features', n_features)\n",
        "w, b = weightInitialization(n_features)\n",
        "#Gradient Descent\n",
        "coeff, gradient, costs = model_predict(w, b, X_tr_arr, y_tr_arr, learning_rate=0.0001,no_iterations=4500)\n",
        "#Final prediction\n",
        "w = coeff[\"w\"]\n",
        "b = coeff[\"b\"]\n",
        "print('Optimized weights', w)\n",
        "print('Optimized intercept',b)\n",
        "#\n",
        "final_train_pred = sigmoid_activation(np.dot(w,X_tr_arr.T)+b)\n",
        "final_test_pred = sigmoid_activation(np.dot(w,X_ts_arr.T)+b)\n",
        "#\n",
        "m_tr =  X_tr_arr.shape[0]\n",
        "m_ts =  X_ts_arr.shape[0]\n",
        "#\n",
        "y_tr_pred = predict(final_train_pred, m_tr)\n",
        "print('Training Accuracy',accuracy_score(y_tr_pred.T, y_tr_arr))\n",
        "#\n",
        "y_ts_pred = predict(final_test_pred, m_ts)\n",
        "print('Test Accuracy',accuracy_score(y_ts_pred.T, y_ts_arr))"
      ],
      "metadata": {
        "colab": {
          "base_uri": "https://localhost:8080/"
        },
        "id": "o-hlHN6ASjaO",
        "outputId": "8916f9ee-5534-4323-904c-5672c728cebd"
      },
      "execution_count": 17,
      "outputs": [
        {
          "output_type": "stream",
          "name": "stdout",
          "text": [
            "Number of Features 6\n",
            "Optimized weights [[ 0.03199291 -0.00886139  0.00498335 -0.01493544  0.02942359  0.02778697]]\n",
            "Optimized intercept -0.00529364041154528\n",
            "Training Accuracy 0.5526315789473685\n",
            "Test Accuracy 0.4827586206896552\n"
          ]
        }
      ]
    },
    {
      "cell_type": "code",
      "source": [
        "plt.plot(costs)\n",
        "plt.ylabel('cost')\n",
        "plt.xlabel('iterations (per hundreds)')\n",
        "plt.title('Cost reduction over time')\n",
        "plt.show()"
      ],
      "metadata": {
        "colab": {
          "base_uri": "https://localhost:8080/",
          "height": 295
        },
        "id": "S2-7iBfrStdO",
        "outputId": "d7403f9f-3e24-435f-b14d-0e49be33a1e4"
      },
      "execution_count": 18,
      "outputs": [
        {
          "output_type": "display_data",
          "data": {
            "image/png": "[encoded data removed]",
            "text/plain": [
              "<Figure size 432x288 with 1 Axes>"
            ]
          },
          "metadata": {
            "needs_background": "light"
          }
        }
      ]
    },
    {
      "cell_type": "code",
      "source": [
        "# now using ML libraries\n",
        "from sklearn.linear_model import LogisticRegression\n",
        "lorm = LogisticRegression()\n",
        "lorm.fit(X_tr_arr, y_tr_arr)"
      ],
      "metadata": {
        "colab": {
          "base_uri": "https://localhost:8080/"
        },
        "id": "9ApNdWkKS11z",
        "outputId": "4a3a80a5-2ac4-447c-f6f8-45e6920dedee"
      },
      "execution_count": 23,
      "outputs": [
        {
          "output_type": "stream",
          "name": "stderr",
          "text": [
            "/usr/local/lib/python3.7/dist-packages/sklearn/utils/validation.py:993: DataConversionWarning: A column-vector y was passed when a 1d array was expected. Please change the shape of y to (n_samples, ), for example using ravel().\n",
            "  y = column_or_1d(y, warn=True)\n"
          ]
        },
        {
          "output_type": "execute_result",
          "data": {
            "text/plain": [
              "LogisticRegression()"
            ]
          },
          "metadata": {},
          "execution_count": 23
        }
      ]
    },
    {
      "cell_type": "code",
      "source": [
        "print('co-efficien is ', lorm.coef_)\n",
        "print('intercept is', lorm.intercept_)"
      ],
      "metadata": {
        "colab": {
          "base_uri": "https://localhost:8080/"
        },
        "id": "DfwFk_PiUBGt",
        "outputId": "16f4479f-e088-49db-e050-b74fcb302791"
      },
      "execution_count": 24,
      "outputs": [
        {
          "output_type": "stream",
          "name": "stdout",
          "text": [
            "co-efficien is  [[ 0.57767938 -0.02433481  0.01205983 -0.15193798  0.20848199  0.44618131]]\n",
            "intercept is [-4.28765159]\n"
          ]
        }
      ]
    },
    {
      "cell_type": "code",
      "source": [
        "pred = lorm.predict(X_ts_arr)\n",
        "print ('Accuracy in test set {0}'.format(lorm.score(X_tr_arr, y_tr_arr)))\n",
        "print ('Accuracy in train set{0}'.format(lorm.score(X_ts_arr, y_ts_arr)))"
      ],
      "metadata": {
        "colab": {
          "base_uri": "https://localhost:8080/"
        },
        "id": "T45c9wIHT0eG",
        "outputId": "82c9acc1-e26e-45cc-ac10-825f4821b5f4"
      },
      "execution_count": 27,
      "outputs": [
        {
          "output_type": "stream",
          "name": "stdout",
          "text": [
            "Accuracy in test set 0.6140350877192983\n",
            "Accuracy in train set0.5517241379310345\n"
          ]
        }
      ]
    },
    {
      "cell_type": "code",
      "source": [
        ""
      ],
      "metadata": {
        "id": "2YCn8YBuT2Qx"
      },
      "execution_count": null,
      "outputs": []
    }
  ]
}