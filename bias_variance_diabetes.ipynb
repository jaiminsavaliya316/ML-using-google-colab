{
  "nbformat": 4,
  "nbformat_minor": 0,
  "metadata": {
    "colab": {
      "name": "bias_variance_diabetes.ipynb",
      "provenance": []
    },
    "kernelspec": {
      "name": "python3",
      "display_name": "Python 3"
    },
    "language_info": {
      "name": "python"
    }
  },
  "cells": [
    {
      "cell_type": "code",
      "execution_count": null,
      "metadata": {
        "id": "pa1p28DqByHu"
      },
      "outputs": [],
      "source": [
        "# 19BECE30073 Jaimin Savaliya \n",
        "import numpy as np # linear algebra\n",
        "import pandas as pd # data processing, CSV file I/O (e.g. pd.read_csv)\n",
        "\n",
        "from sklearn.model_selection import train_test_split\n",
        "from sklearn.preprocessing import StandardScaler\n",
        "from sklearn.neighbors import KNeighborsClassifier\n",
        "from sklearn.neighbors import KNeighborsRegressor\n",
        "from sklearn.metrics import confusion_matrix\n",
        "from sklearn import metrics\n",
        "import matplotlib.pyplot as plt\n",
        "%matplotlib inline"
      ]
    },
    {
      "cell_type": "code",
      "source": [
        "data_file_path = 'diabetes.csv'\n",
        "data_df = pd.read_csv(data_file_path)\n",
        "data_df.head()"
      ],
      "metadata": {
        "colab": {
          "base_uri": "https://localhost:8080/",
          "height": 206
        },
        "id": "jBOVQR8eB4j4",
        "outputId": "9ed7be29-a7c5-4237-97ba-ee55f1a5e60e"
      },
      "execution_count": null,
      "outputs": [
        {
          "output_type": "execute_result",
          "data": {
            "text/html": [
              "\n",
              "  <div id=\"df-5a41141a-076a-4bf2-9e63-0ce604d23622\">\n",
              "    <div class=\"colab-df-container\">\n",
              "      <div>\n",
              "<style scoped>\n",
              "    .dataframe tbody tr th:only-of-type {\n",
              "        vertical-align: middle;\n",
              "    }\n",
              "\n",
              "    .dataframe tbody tr th {\n",
              "        vertical-align: top;\n",
              "    }\n",
              "\n",
              "    .dataframe thead th {\n",
              "        text-align: right;\n",
              "    }\n",
              "</style>\n",
              "<table border=\"1\" class=\"dataframe\">\n",
              "  <thead>\n",
              "    <tr style=\"text-align: right;\">\n",
              "      <th></th>\n",
              "      <th>Pregnancies</th>\n",
              "      <th>Glucose</th>\n",
              "      <th>BloodPressure</th>\n",
              "      <th>SkinThickness</th>\n",
              "      <th>Insulin</th>\n",
              "      <th>BMI</th>\n",
              "      <th>DiabetesPedigreeFunction</th>\n",
              "      <th>Age</th>\n",
              "      <th>Outcome</th>\n",
              "    </tr>\n",
              "  </thead>\n",
              "  <tbody>\n",
              "    <tr>\n",
              "      <th>0</th>\n",
              "      <td>6</td>\n",
              "      <td>148</td>\n",
              "      <td>72</td>\n",
              "      <td>35</td>\n",
              "      <td>0</td>\n",
              "      <td>33.6</td>\n",
              "      <td>0.627</td>\n",
              "      <td>50</td>\n",
              "      <td>1</td>\n",
              "    </tr>\n",
              "    <tr>\n",
              "      <th>1</th>\n",
              "      <td>1</td>\n",
              "      <td>85</td>\n",
              "      <td>66</td>\n",
              "      <td>29</td>\n",
              "      <td>0</td>\n",
              "      <td>26.6</td>\n",
              "      <td>0.351</td>\n",
              "      <td>31</td>\n",
              "      <td>0</td>\n",
              "    </tr>\n",
              "    <tr>\n",
              "      <th>2</th>\n",
              "      <td>8</td>\n",
              "      <td>183</td>\n",
              "      <td>64</td>\n",
              "      <td>0</td>\n",
              "      <td>0</td>\n",
              "      <td>23.3</td>\n",
              "      <td>0.672</td>\n",
              "      <td>32</td>\n",
              "      <td>1</td>\n",
              "    </tr>\n",
              "    <tr>\n",
              "      <th>3</th>\n",
              "      <td>1</td>\n",
              "      <td>89</td>\n",
              "      <td>66</td>\n",
              "      <td>23</td>\n",
              "      <td>94</td>\n",
              "      <td>28.1</td>\n",
              "      <td>0.167</td>\n",
              "      <td>21</td>\n",
              "      <td>0</td>\n",
              "    </tr>\n",
              "    <tr>\n",
              "      <th>4</th>\n",
              "      <td>0</td>\n",
              "      <td>137</td>\n",
              "      <td>40</td>\n",
              "      <td>35</td>\n",
              "      <td>168</td>\n",
              "      <td>43.1</td>\n",
              "      <td>2.288</td>\n",
              "      <td>33</td>\n",
              "      <td>1</td>\n",
              "    </tr>\n",
              "  </tbody>\n",
              "</table>\n",
              "</div>\n",
              "      <button class=\"colab-df-convert\" onclick=\"convertToInteractive('df-5a41141a-076a-4bf2-9e63-0ce604d23622')\"\n",
              "              title=\"Convert this dataframe to an interactive table.\"\n",
              "              style=\"display:none;\">\n",
              "        \n",
              "  <svg xmlns=\"http://www.w3.org/2000/svg\" height=\"24px\"viewBox=\"0 0 24 24\"\n",
              "       width=\"24px\">\n",
              "    <path d=\"M0 0h24v24H0V0z\" fill=\"none\"/>\n",
              "    <path d=\"M18.56 5.44l.94 2.06.94-2.06 2.06-.94-2.06-.94-.94-2.06-.94 2.06-2.06.94zm-11 1L8.5 8.5l.94-2.06 2.06-.94-2.06-.94L8.5 2.5l-.94 2.06-2.06.94zm10 10l.94 2.06.94-2.06 2.06-.94-2.06-.94-.94-2.06-.94 2.06-2.06.94z\"/><path d=\"M17.41 7.96l-1.37-1.37c-.4-.4-.92-.59-1.43-.59-.52 0-1.04.2-1.43.59L10.3 9.45l-7.72 7.72c-.78.78-.78 2.05 0 2.83L4 21.41c.39.39.9.59 1.41.59.51 0 1.02-.2 1.41-.59l7.78-7.78 2.81-2.81c.8-.78.8-2.07 0-2.86zM5.41 20L4 18.59l7.72-7.72 1.47 1.35L5.41 20z\"/>\n",
              "  </svg>\n",
              "      </button>\n",
              "      \n",
              "  <style>\n",
              "    .colab-df-container {\n",
              "      display:flex;\n",
              "      flex-wrap:wrap;\n",
              "      gap: 12px;\n",
              "    }\n",
              "\n",
              "    .colab-df-convert {\n",
              "      background-color: #E8F0FE;\n",
              "      border: none;\n",
              "      border-radius: 50%;\n",
              "      cursor: pointer;\n",
              "      display: none;\n",
              "      fill: #1967D2;\n",
              "      height: 32px;\n",
              "      padding: 0 0 0 0;\n",
              "      width: 32px;\n",
              "    }\n",
              "\n",
              "    .colab-df-convert:hover {\n",
              "      background-color: #E2EBFA;\n",
              "      box-shadow: 0px 1px 2px rgba(60, 64, 67, 0.3), 0px 1px 3px 1px rgba(60, 64, 67, 0.15);\n",
              "      fill: #174EA6;\n",
              "    }\n",
              "\n",
              "    [theme=dark] .colab-df-convert {\n",
              "      background-color: #3B4455;\n",
              "      fill: #D2E3FC;\n",
              "    }\n",
              "\n",
              "    [theme=dark] .colab-df-convert:hover {\n",
              "      background-color: #434B5C;\n",
              "      box-shadow: 0px 1px 3px 1px rgba(0, 0, 0, 0.15);\n",
              "      filter: drop-shadow(0px 1px 2px rgba(0, 0, 0, 0.3));\n",
              "      fill: #FFFFFF;\n",
              "    }\n",
              "  </style>\n",
              "\n",
              "      <script>\n",
              "        const buttonEl =\n",
              "          document.querySelector('#df-5a41141a-076a-4bf2-9e63-0ce604d23622 button.colab-df-convert');\n",
              "        buttonEl.style.display =\n",
              "          google.colab.kernel.accessAllowed ? 'block' : 'none';\n",
              "\n",
              "        async function convertToInteractive(key) {\n",
              "          const element = document.querySelector('#df-5a41141a-076a-4bf2-9e63-0ce604d23622');\n",
              "          const dataTable =\n",
              "            await google.colab.kernel.invokeFunction('convertToInteractive',\n",
              "                                                     [key], {});\n",
              "          if (!dataTable) return;\n",
              "\n",
              "          const docLinkHtml = 'Like what you see? Visit the ' +\n",
              "            '<a target=\"_blank\" href=https://colab.research.google.com/notebooks/data_table.ipynb>data table notebook</a>'\n",
              "            + ' to learn more about interactive tables.';\n",
              "          element.innerHTML = '';\n",
              "          dataTable['output_type'] = 'display_data';\n",
              "          await google.colab.output.renderOutput(dataTable, element);\n",
              "          const docLink = document.createElement('div');\n",
              "          docLink.innerHTML = docLinkHtml;\n",
              "          element.appendChild(docLink);\n",
              "        }\n",
              "      </script>\n",
              "    </div>\n",
              "  </div>\n",
              "  "
            ],
            "text/plain": [
              "   Pregnancies  Glucose  BloodPressure  ...  DiabetesPedigreeFunction  Age  Outcome\n",
              "0            6      148             72  ...                     0.627   50        1\n",
              "1            1       85             66  ...                     0.351   31        0\n",
              "2            8      183             64  ...                     0.672   32        1\n",
              "3            1       89             66  ...                     0.167   21        0\n",
              "4            0      137             40  ...                     2.288   33        1\n",
              "\n",
              "[5 rows x 9 columns]"
            ]
          },
          "metadata": {},
          "execution_count": 2
        }
      ]
    },
    {
      "cell_type": "code",
      "source": [
        "y = data_df[\"Outcome\"].values\n",
        "x = data_df.drop([\"Outcome\"],axis=1)"
      ],
      "metadata": {
        "id": "gzR8y3w1CXTe"
      },
      "execution_count": null,
      "outputs": []
    },
    {
      "cell_type": "code",
      "source": [
        "from sklearn.preprocessing import StandardScaler\n",
        "ss = StandardScaler()\n",
        "data_df = ss.fit_transform(data_df)\n",
        "\n",
        "#Divide into training and test data\n",
        "X_train, X_test, y_train, y_test = train_test_split(x, y, test_size = 0.3) # 70% training and 30% test"
      ],
      "metadata": {
        "id": "a1J2MqbDCeAV"
      },
      "execution_count": null,
      "outputs": []
    },
    {
      "cell_type": "code",
      "source": [
        "train_score = []\n",
        "test_score = []\n",
        "k_vals = []\n",
        "\n",
        "for k in range(1, 21):\n",
        "    k_vals.append(k)\n",
        "    knn = KNeighborsClassifier(n_neighbors = k)\n",
        "    knn.fit(X_train, y_train)\n",
        "    \n",
        "    tr_score = knn.score(X_train, y_train)\n",
        "    train_score.append(tr_score)\n",
        "    \n",
        "    te_score = knn.score(X_test, y_test)\n",
        "    test_score.append(te_score)"
      ],
      "metadata": {
        "id": "2zBkDVUECkr2"
      },
      "execution_count": null,
      "outputs": []
    },
    {
      "cell_type": "code",
      "source": [
        "plt.figure(figsize=(10,5))\n",
        "plt.xlabel('Different Values of K')\n",
        "plt.ylabel('Model score')\n",
        "plt.plot(k_vals, train_score, color = 'r', label = \"training score\")\n",
        "plt.plot(k_vals, test_score, color = 'b', label = 'test score')\n",
        "plt.legend(bbox_to_anchor=(1, 1),\n",
        "           bbox_transform=plt.gcf().transFigure)\n",
        "plt.show()"
      ],
      "metadata": {
        "colab": {
          "base_uri": "https://localhost:8080/",
          "height": 372
        },
        "id": "jimZMPw6EgD9",
        "outputId": "b9b8982d-2f5c-450d-ee1d-c4e302caa6cc"
      },
      "execution_count": null,
      "outputs": [
        {
          "output_type": "display_data",
          "data": {
            "image/png": "[encoded data removed]",
            "text/plain": [
              "<Figure size 720x360 with 1 Axes>"
            ]
          },
          "metadata": {
            "needs_background": "light"
          }
        }
      ]
    },
    {
      "cell_type": "code",
      "source": [
        "knn = KNeighborsClassifier(n_neighbors = 14)\n",
        "\n",
        "#Fit the model\n",
        "knn.fit(X_train,y_train)\n",
        "\n",
        "#get the score\n",
        "knn.score(X_test,y_test)"
      ],
      "metadata": {
        "colab": {
          "base_uri": "https://localhost:8080/"
        },
        "id": "oJZGFTKpElad",
        "outputId": "3c21dcad-3d41-4876-e5c3-bfb3968680e7"
      },
      "execution_count": null,
      "outputs": [
        {
          "output_type": "execute_result",
          "data": {
            "text/plain": [
              "0.7965367965367965"
            ]
          },
          "metadata": {},
          "execution_count": 7
        }
      ]
    },
    {
      "cell_type": "markdown",
      "source": [
        "\n",
        "*   For low values of k, the training score is high, while the testing score is low As the value of k increases, the testing score starts to increase and the training score starts to decrease.\n",
        "*   However, at some value of k, both the training score and the testing score are close to each other.\n",
        "\n",
        "\n"
      ],
      "metadata": {
        "id": "7hb6xm3KFApd"
      }
    },
    {
      "cell_type": "code",
      "source": [
        ""
      ],
      "metadata": {
        "id": "xjNg2hAGEwmu"
      },
      "execution_count": null,
      "outputs": []
    },
    {
      "cell_type": "code",
      "source": [
        "# importing the required modules\n",
        "import numpy as np\n",
        "import pandas as pd\n",
        "df = pd.read_csv('weight-height.csv')\n",
        "df.info()\n",
        "df.head()\n"
      ],
      "metadata": {
        "colab": {
          "base_uri": "https://localhost:8080/",
          "height": 380
        },
        "id": "l6YTAMEGG00L",
        "outputId": "f95f6ea6-2cdc-4b66-a85b-8bd44e5caf9a"
      },
      "execution_count": null,
      "outputs": [
        {
          "output_type": "stream",
          "name": "stdout",
          "text": [
            "<class 'pandas.core.frame.DataFrame'>\n",
            "RangeIndex: 10000 entries, 0 to 9999\n",
            "Data columns (total 3 columns):\n",
            " #   Column  Non-Null Count  Dtype  \n",
            "---  ------  --------------  -----  \n",
            " 0   Gender  10000 non-null  object \n",
            " 1   Height  10000 non-null  float64\n",
            " 2   Weight  10000 non-null  float64\n",
            "dtypes: float64(2), object(1)\n",
            "memory usage: 234.5+ KB\n"
          ]
        },
        {
          "output_type": "execute_result",
          "data": {
            "text/html": [
              "\n",
              "  <div id=\"df-79c79a3f-07d7-48d5-9be7-9320984755b2\">\n",
              "    <div class=\"colab-df-container\">\n",
              "      <div>\n",
              "<style scoped>\n",
              "    .dataframe tbody tr th:only-of-type {\n",
              "        vertical-align: middle;\n",
              "    }\n",
              "\n",
              "    .dataframe tbody tr th {\n",
              "        vertical-align: top;\n",
              "    }\n",
              "\n",
              "    .dataframe thead th {\n",
              "        text-align: right;\n",
              "    }\n",
              "</style>\n",
              "<table border=\"1\" class=\"dataframe\">\n",
              "  <thead>\n",
              "    <tr style=\"text-align: right;\">\n",
              "      <th></th>\n",
              "      <th>Gender</th>\n",
              "      <th>Height</th>\n",
              "      <th>Weight</th>\n",
              "    </tr>\n",
              "  </thead>\n",
              "  <tbody>\n",
              "    <tr>\n",
              "      <th>0</th>\n",
              "      <td>Male</td>\n",
              "      <td>73.847017</td>\n",
              "      <td>241.893563</td>\n",
              "    </tr>\n",
              "    <tr>\n",
              "      <th>1</th>\n",
              "      <td>Male</td>\n",
              "      <td>68.781904</td>\n",
              "      <td>162.310473</td>\n",
              "    </tr>\n",
              "    <tr>\n",
              "      <th>2</th>\n",
              "      <td>Male</td>\n",
              "      <td>74.110105</td>\n",
              "      <td>212.740856</td>\n",
              "    </tr>\n",
              "    <tr>\n",
              "      <th>3</th>\n",
              "      <td>Male</td>\n",
              "      <td>71.730978</td>\n",
              "      <td>220.042470</td>\n",
              "    </tr>\n",
              "    <tr>\n",
              "      <th>4</th>\n",
              "      <td>Male</td>\n",
              "      <td>69.881796</td>\n",
              "      <td>206.349801</td>\n",
              "    </tr>\n",
              "  </tbody>\n",
              "</table>\n",
              "</div>\n",
              "      <button class=\"colab-df-convert\" onclick=\"convertToInteractive('df-79c79a3f-07d7-48d5-9be7-9320984755b2')\"\n",
              "              title=\"Convert this dataframe to an interactive table.\"\n",
              "              style=\"display:none;\">\n",
              "        \n",
              "  <svg xmlns=\"http://www.w3.org/2000/svg\" height=\"24px\"viewBox=\"0 0 24 24\"\n",
              "       width=\"24px\">\n",
              "    <path d=\"M0 0h24v24H0V0z\" fill=\"none\"/>\n",
              "    <path d=\"M18.56 5.44l.94 2.06.94-2.06 2.06-.94-2.06-.94-.94-2.06-.94 2.06-2.06.94zm-11 1L8.5 8.5l.94-2.06 2.06-.94-2.06-.94L8.5 2.5l-.94 2.06-2.06.94zm10 10l.94 2.06.94-2.06 2.06-.94-2.06-.94-.94-2.06-.94 2.06-2.06.94z\"/><path d=\"M17.41 7.96l-1.37-1.37c-.4-.4-.92-.59-1.43-.59-.52 0-1.04.2-1.43.59L10.3 9.45l-7.72 7.72c-.78.78-.78 2.05 0 2.83L4 21.41c.39.39.9.59 1.41.59.51 0 1.02-.2 1.41-.59l7.78-7.78 2.81-2.81c.8-.78.8-2.07 0-2.86zM5.41 20L4 18.59l7.72-7.72 1.47 1.35L5.41 20z\"/>\n",
              "  </svg>\n",
              "      </button>\n",
              "      \n",
              "  <style>\n",
              "    .colab-df-container {\n",
              "      display:flex;\n",
              "      flex-wrap:wrap;\n",
              "      gap: 12px;\n",
              "    }\n",
              "\n",
              "    .colab-df-convert {\n",
              "      background-color: #E8F0FE;\n",
              "      border: none;\n",
              "      border-radius: 50%;\n",
              "      cursor: pointer;\n",
              "      display: none;\n",
              "      fill: #1967D2;\n",
              "      height: 32px;\n",
              "      padding: 0 0 0 0;\n",
              "      width: 32px;\n",
              "    }\n",
              "\n",
              "    .colab-df-convert:hover {\n",
              "      background-color: #E2EBFA;\n",
              "      box-shadow: 0px 1px 2px rgba(60, 64, 67, 0.3), 0px 1px 3px 1px rgba(60, 64, 67, 0.15);\n",
              "      fill: #174EA6;\n",
              "    }\n",
              "\n",
              "    [theme=dark] .colab-df-convert {\n",
              "      background-color: #3B4455;\n",
              "      fill: #D2E3FC;\n",
              "    }\n",
              "\n",
              "    [theme=dark] .colab-df-convert:hover {\n",
              "      background-color: #434B5C;\n",
              "      box-shadow: 0px 1px 3px 1px rgba(0, 0, 0, 0.15);\n",
              "      filter: drop-shadow(0px 1px 2px rgba(0, 0, 0, 0.3));\n",
              "      fill: #FFFFFF;\n",
              "    }\n",
              "  </style>\n",
              "\n",
              "      <script>\n",
              "        const buttonEl =\n",
              "          document.querySelector('#df-79c79a3f-07d7-48d5-9be7-9320984755b2 button.colab-df-convert');\n",
              "        buttonEl.style.display =\n",
              "          google.colab.kernel.accessAllowed ? 'block' : 'none';\n",
              "\n",
              "        async function convertToInteractive(key) {\n",
              "          const element = document.querySelector('#df-79c79a3f-07d7-48d5-9be7-9320984755b2');\n",
              "          const dataTable =\n",
              "            await google.colab.kernel.invokeFunction('convertToInteractive',\n",
              "                                                     [key], {});\n",
              "          if (!dataTable) return;\n",
              "\n",
              "          const docLinkHtml = 'Like what you see? Visit the ' +\n",
              "            '<a target=\"_blank\" href=https://colab.research.google.com/notebooks/data_table.ipynb>data table notebook</a>'\n",
              "            + ' to learn more about interactive tables.';\n",
              "          element.innerHTML = '';\n",
              "          dataTable['output_type'] = 'display_data';\n",
              "          await google.colab.output.renderOutput(dataTable, element);\n",
              "          const docLink = document.createElement('div');\n",
              "          docLink.innerHTML = docLinkHtml;\n",
              "          element.appendChild(docLink);\n",
              "        }\n",
              "      </script>\n",
              "    </div>\n",
              "  </div>\n",
              "  "
            ],
            "text/plain": [
              "  Gender     Height      Weight\n",
              "0   Male  73.847017  241.893563\n",
              "1   Male  68.781904  162.310473\n",
              "2   Male  74.110105  212.740856\n",
              "3   Male  71.730978  220.042470\n",
              "4   Male  69.881796  206.349801"
            ]
          },
          "metadata": {},
          "execution_count": 2
        }
      ]
    },
    {
      "cell_type": "code",
      "source": [
        "\n",
        "df = df[df['Gender']=='Female']\n",
        "df = df[:100]\n",
        "df.info()\n",
        "df.head()\n"
      ],
      "metadata": {
        "colab": {
          "base_uri": "https://localhost:8080/",
          "height": 380
        },
        "id": "8OMKHdfUG03q",
        "outputId": "1cbebfb7-a021-487f-f558-ab3d21242da0"
      },
      "execution_count": null,
      "outputs": [
        {
          "output_type": "stream",
          "name": "stdout",
          "text": [
            "<class 'pandas.core.frame.DataFrame'>\n",
            "Int64Index: 100 entries, 5000 to 5099\n",
            "Data columns (total 3 columns):\n",
            " #   Column  Non-Null Count  Dtype  \n",
            "---  ------  --------------  -----  \n",
            " 0   Gender  100 non-null    object \n",
            " 1   Height  100 non-null    float64\n",
            " 2   Weight  100 non-null    float64\n",
            "dtypes: float64(2), object(1)\n",
            "memory usage: 3.1+ KB\n"
          ]
        },
        {
          "output_type": "execute_result",
          "data": {
            "text/html": [
              "\n",
              "  <div id=\"df-8722c04b-3740-4e6b-bb6a-156c8b49ac5e\">\n",
              "    <div class=\"colab-df-container\">\n",
              "      <div>\n",
              "<style scoped>\n",
              "    .dataframe tbody tr th:only-of-type {\n",
              "        vertical-align: middle;\n",
              "    }\n",
              "\n",
              "    .dataframe tbody tr th {\n",
              "        vertical-align: top;\n",
              "    }\n",
              "\n",
              "    .dataframe thead th {\n",
              "        text-align: right;\n",
              "    }\n",
              "</style>\n",
              "<table border=\"1\" class=\"dataframe\">\n",
              "  <thead>\n",
              "    <tr style=\"text-align: right;\">\n",
              "      <th></th>\n",
              "      <th>Gender</th>\n",
              "      <th>Height</th>\n",
              "      <th>Weight</th>\n",
              "    </tr>\n",
              "  </thead>\n",
              "  <tbody>\n",
              "    <tr>\n",
              "      <th>5000</th>\n",
              "      <td>Female</td>\n",
              "      <td>58.910732</td>\n",
              "      <td>102.088326</td>\n",
              "    </tr>\n",
              "    <tr>\n",
              "      <th>5001</th>\n",
              "      <td>Female</td>\n",
              "      <td>65.230013</td>\n",
              "      <td>141.305823</td>\n",
              "    </tr>\n",
              "    <tr>\n",
              "      <th>5002</th>\n",
              "      <td>Female</td>\n",
              "      <td>63.369004</td>\n",
              "      <td>131.041403</td>\n",
              "    </tr>\n",
              "    <tr>\n",
              "      <th>5003</th>\n",
              "      <td>Female</td>\n",
              "      <td>64.479997</td>\n",
              "      <td>128.171511</td>\n",
              "    </tr>\n",
              "    <tr>\n",
              "      <th>5004</th>\n",
              "      <td>Female</td>\n",
              "      <td>61.793096</td>\n",
              "      <td>129.781407</td>\n",
              "    </tr>\n",
              "  </tbody>\n",
              "</table>\n",
              "</div>\n",
              "      <button class=\"colab-df-convert\" onclick=\"convertToInteractive('df-8722c04b-3740-4e6b-bb6a-156c8b49ac5e')\"\n",
              "              title=\"Convert this dataframe to an interactive table.\"\n",
              "              style=\"display:none;\">\n",
              "        \n",
              "  <svg xmlns=\"http://www.w3.org/2000/svg\" height=\"24px\"viewBox=\"0 0 24 24\"\n",
              "       width=\"24px\">\n",
              "    <path d=\"M0 0h24v24H0V0z\" fill=\"none\"/>\n",
              "    <path d=\"M18.56 5.44l.94 2.06.94-2.06 2.06-.94-2.06-.94-.94-2.06-.94 2.06-2.06.94zm-11 1L8.5 8.5l.94-2.06 2.06-.94-2.06-.94L8.5 2.5l-.94 2.06-2.06.94zm10 10l.94 2.06.94-2.06 2.06-.94-2.06-.94-.94-2.06-.94 2.06-2.06.94z\"/><path d=\"M17.41 7.96l-1.37-1.37c-.4-.4-.92-.59-1.43-.59-.52 0-1.04.2-1.43.59L10.3 9.45l-7.72 7.72c-.78.78-.78 2.05 0 2.83L4 21.41c.39.39.9.59 1.41.59.51 0 1.02-.2 1.41-.59l7.78-7.78 2.81-2.81c.8-.78.8-2.07 0-2.86zM5.41 20L4 18.59l7.72-7.72 1.47 1.35L5.41 20z\"/>\n",
              "  </svg>\n",
              "      </button>\n",
              "      \n",
              "  <style>\n",
              "    .colab-df-container {\n",
              "      display:flex;\n",
              "      flex-wrap:wrap;\n",
              "      gap: 12px;\n",
              "    }\n",
              "\n",
              "    .colab-df-convert {\n",
              "      background-color: #E8F0FE;\n",
              "      border: none;\n",
              "      border-radius: 50%;\n",
              "      cursor: pointer;\n",
              "      display: none;\n",
              "      fill: #1967D2;\n",
              "      height: 32px;\n",
              "      padding: 0 0 0 0;\n",
              "      width: 32px;\n",
              "    }\n",
              "\n",
              "    .colab-df-convert:hover {\n",
              "      background-color: #E2EBFA;\n",
              "      box-shadow: 0px 1px 2px rgba(60, 64, 67, 0.3), 0px 1px 3px 1px rgba(60, 64, 67, 0.15);\n",
              "      fill: #174EA6;\n",
              "    }\n",
              "\n",
              "    [theme=dark] .colab-df-convert {\n",
              "      background-color: #3B4455;\n",
              "      fill: #D2E3FC;\n",
              "    }\n",
              "\n",
              "    [theme=dark] .colab-df-convert:hover {\n",
              "      background-color: #434B5C;\n",
              "      box-shadow: 0px 1px 3px 1px rgba(0, 0, 0, 0.15);\n",
              "      filter: drop-shadow(0px 1px 2px rgba(0, 0, 0, 0.3));\n",
              "      fill: #FFFFFF;\n",
              "    }\n",
              "  </style>\n",
              "\n",
              "      <script>\n",
              "        const buttonEl =\n",
              "          document.querySelector('#df-8722c04b-3740-4e6b-bb6a-156c8b49ac5e button.colab-df-convert');\n",
              "        buttonEl.style.display =\n",
              "          google.colab.kernel.accessAllowed ? 'block' : 'none';\n",
              "\n",
              "        async function convertToInteractive(key) {\n",
              "          const element = document.querySelector('#df-8722c04b-3740-4e6b-bb6a-156c8b49ac5e');\n",
              "          const dataTable =\n",
              "            await google.colab.kernel.invokeFunction('convertToInteractive',\n",
              "                                                     [key], {});\n",
              "          if (!dataTable) return;\n",
              "\n",
              "          const docLinkHtml = 'Like what you see? Visit the ' +\n",
              "            '<a target=\"_blank\" href=https://colab.research.google.com/notebooks/data_table.ipynb>data table notebook</a>'\n",
              "            + ' to learn more about interactive tables.';\n",
              "          element.innerHTML = '';\n",
              "          dataTable['output_type'] = 'display_data';\n",
              "          await google.colab.output.renderOutput(dataTable, element);\n",
              "          const docLink = document.createElement('div');\n",
              "          docLink.innerHTML = docLinkHtml;\n",
              "          element.appendChild(docLink);\n",
              "        }\n",
              "      </script>\n",
              "    </div>\n",
              "  </div>\n",
              "  "
            ],
            "text/plain": [
              "      Gender     Height      Weight\n",
              "5000  Female  58.910732  102.088326\n",
              "5001  Female  65.230013  141.305823\n",
              "5002  Female  63.369004  131.041403\n",
              "5003  Female  64.479997  128.171511\n",
              "5004  Female  61.793096  129.781407"
            ]
          },
          "metadata": {},
          "execution_count": 3
        }
      ]
    },
    {
      "cell_type": "code",
      "source": [
        " #Train Test Split\n",
        "#df = df[:100]\n",
        "x_train = df.iloc[:, 1:2].values \n",
        "x_train1 = x_train[:70]\n",
        "\n",
        "y_train = df.iloc[:, 2].values\n",
        "y_train1 = y_train[:70] "
      ],
      "metadata": {
        "id": "1xCuJ7E7HDcf"
      },
      "execution_count": null,
      "outputs": []
    },
    {
      "cell_type": "code",
      "source": [
        "x_train1"
      ],
      "metadata": {
        "colab": {
          "base_uri": "https://localhost:8080/"
        },
        "id": "TXLKsdE7JV1_",
        "outputId": "f0547ca7-b78f-4a10-a0f3-1e0c9b969f2b"
      },
      "execution_count": null,
      "outputs": [
        {
          "output_type": "execute_result",
          "data": {
            "text/plain": [
              "array([[58.91073204],\n",
              "       [65.23001251],\n",
              "       [63.36900376],\n",
              "       [64.47999743],\n",
              "       [61.79309615],\n",
              "       [65.96801895],\n",
              "       [62.85037864],\n",
              "       [65.65215644],\n",
              "       [61.89023374],\n",
              "       [63.67786815],\n",
              "       [68.10117224],\n",
              "       [61.79887853],\n",
              "       [63.37145896],\n",
              "       [58.89588635],\n",
              "       [58.4382491 ],\n",
              "       [60.80979868],\n",
              "       [70.12865283],\n",
              "       [62.25742965],\n",
              "       [61.73509022],\n",
              "       [63.05955669],\n",
              "       [62.28683837],\n",
              "       [61.82747755],\n",
              "       [66.34753722],\n",
              "       [65.32063203],\n",
              "       [66.1038728 ],\n",
              "       [64.52718203],\n",
              "       [56.54797498],\n",
              "       [62.73928093],\n",
              "       [61.58519865],\n",
              "       [62.02442483],\n",
              "       [65.31133414],\n",
              "       [61.20495607],\n",
              "       [67.02509352],\n",
              "       [60.21116656],\n",
              "       [63.93997277],\n",
              "       [63.35780516],\n",
              "       [63.68506845],\n",
              "       [60.28887039],\n",
              "       [63.40728979],\n",
              "       [60.63160012],\n",
              "       [67.37359659],\n",
              "       [66.8727416 ],\n",
              "       [60.04714722],\n",
              "       [64.15447227],\n",
              "       [63.46166489],\n",
              "       [67.24386795],\n",
              "       [66.21359451],\n",
              "       [64.69282138],\n",
              "       [66.19928328],\n",
              "       [65.85337582],\n",
              "       [65.04952022],\n",
              "       [64.47761515],\n",
              "       [62.54007732],\n",
              "       [61.59623162],\n",
              "       [60.95032891],\n",
              "       [63.5532238 ],\n",
              "       [62.24834635],\n",
              "       [66.19059084],\n",
              "       [62.54805798],\n",
              "       [66.62983432],\n",
              "       [59.60856014],\n",
              "       [64.49339476],\n",
              "       [64.9365559 ],\n",
              "       [61.37925849],\n",
              "       [66.07078721],\n",
              "       [63.91443166],\n",
              "       [69.61980602],\n",
              "       [67.18153588],\n",
              "       [63.39905083],\n",
              "       [61.2131715 ]])"
            ]
          },
          "metadata": {},
          "execution_count": 5
        }
      ]
    },
    {
      "cell_type": "code",
      "source": [
        "from sklearn.linear_model import LinearRegression \n",
        "lin = LinearRegression() \n",
        "lin.fit(x_train1, y_train1) "
      ],
      "metadata": {
        "colab": {
          "base_uri": "https://localhost:8080/"
        },
        "id": "D6D64FwXHIsD",
        "outputId": "61206e14-78be-4692-e2bb-fee500d68b8a"
      },
      "execution_count": null,
      "outputs": [
        {
          "output_type": "execute_result",
          "data": {
            "text/plain": [
              "LinearRegression()"
            ]
          },
          "metadata": {},
          "execution_count": 6
        }
      ]
    },
    {
      "cell_type": "code",
      "source": [
        "import matplotlib.pyplot as plt\n",
        "plt.scatter(x_train1, y_train1, color = 'blue') \n",
        "plt.scatter(x_train1, lin.predict(x_train1), color = 'red') \n",
        "plt.show() "
      ],
      "metadata": {
        "colab": {
          "base_uri": "https://localhost:8080/",
          "height": 265
        },
        "id": "K6AZK_VMHR0X",
        "outputId": "d4a793ce-bb49-4c5e-f61c-b4ad8c6a58b9"
      },
      "execution_count": null,
      "outputs": [
        {
          "output_type": "display_data",
          "data": {
            "image/png": "[encoded data removed]",
            "text/plain": [
              "<Figure size 432x288 with 1 Axes>"
            ]
          },
          "metadata": {
            "needs_background": "light"
          }
        }
      ]
    },
    {
      "cell_type": "code",
      "source": [
        "# Predict and plot on test data\n",
        "import matplotlib.pyplot as plt\n",
        "x_test = x_train[70:100]\n",
        "y_test = y_train[70:100]\n",
        "\n",
        "plt.scatter(x_test, y_test, color = 'blue') \n",
        "plt.scatter(x_test, lin.predict(x_test), color = 'red') \n",
        "plt.show()"
      ],
      "metadata": {
        "colab": {
          "base_uri": "https://localhost:8080/",
          "height": 266
        },
        "id": "sqxPV0bhH4ZQ",
        "outputId": "d7d447b4-c158-4aa6-c4d2-2a2c3f9a9de1"
      },
      "execution_count": null,
      "outputs": [
        {
          "output_type": "display_data",
          "data": {
            "image/png": "[encoded data removed]",
            "text/plain": [
              "<Figure size 432x288 with 1 Axes>"
            ]
          },
          "metadata": {
            "needs_background": "light"
          }
        }
      ]
    },
    {
      "cell_type": "code",
      "source": [
        "# Evaluate\n",
        "from sklearn import metrics\n",
        "rmse = np.sqrt(metrics.mean_squared_error(y_train1,lin.predict(x_train1)))\n",
        "print(rmse)\n",
        "rmse = np.sqrt(metrics.mean_squared_error(y_test,lin.predict(x_test)))\n",
        "print(rmse)"
      ],
      "metadata": {
        "colab": {
          "base_uri": "https://localhost:8080/"
        },
        "id": "S-vGzzK3H_9G",
        "outputId": "5b61fe07-08a8-4730-9d84-a01dba28ae90"
      },
      "execution_count": null,
      "outputs": [
        {
          "output_type": "stream",
          "name": "stdout",
          "text": [
            "10.764724839161115\n",
            "10.035233616155567\n"
          ]
        }
      ]
    },
    {
      "cell_type": "markdown",
      "source": [
        "The model has high bias but low variance, as it was unable to fit the relationship between the variables, but works similar for even the independent datasets"
      ],
      "metadata": {
        "id": "fN4cOVW8LLPr"
      }
    },
    {
      "cell_type": "markdown",
      "source": [
        "Polynomial Regression"
      ],
      "metadata": {
        "id": "VKgRNSCvMQdm"
      }
    },
    {
      "cell_type": "code",
      "source": [
        "from sklearn.linear_model import LinearRegression\n",
        "from sklearn.metrics import mean_squared_error, r2_score\n",
        "from sklearn.preprocessing import PolynomialFeatures\n"
      ],
      "metadata": {
        "id": "hW3MQtvDMtWl"
      },
      "execution_count": null,
      "outputs": []
    },
    {
      "cell_type": "code",
      "source": [
        "polynomial_features= PolynomialFeatures(degree=20)\n",
        "x_poly = polynomial_features.fit_transform(x_train1)\n",
        "x_test_poly =polynomial_features.fit_transform(x_test)\n",
        "lin = LinearRegression()"
      ],
      "metadata": {
        "id": "HWlqi3LEMUl1"
      },
      "execution_count": null,
      "outputs": []
    },
    {
      "cell_type": "code",
      "source": [
        "import matplotlib.pyplot as plt\n",
        "plt.scatter(x_train1, y_train1, color = 'blue') \n",
        "lin.fit(x_poly, y_train1)\n",
        "\n",
        "plt.scatter(x_train1, lin.predict(x_poly), color = 'red')\n",
        "plt.show() "
      ],
      "metadata": {
        "colab": {
          "base_uri": "https://localhost:8080/",
          "height": 265
        },
        "id": "HXMHR1DIMbTb",
        "outputId": "66d31180-bae8-4fdf-9e54-1cc8dfa4cbff"
      },
      "execution_count": null,
      "outputs": [
        {
          "output_type": "display_data",
          "data": {
            "image/png": "[encoded data removed]",
            "text/plain": [
              "<Figure size 432x288 with 1 Axes>"
            ]
          },
          "metadata": {
            "needs_background": "light"
          }
        }
      ]
    },
    {
      "cell_type": "code",
      "source": [
        "from sklearn import metrics\n",
        "rmse = np.sqrt(metrics.mean_squared_error(y_train1,lin.predict(x_poly)))\n",
        "print(rmse)\n",
        "rmse = np.sqrt(metrics.mean_squared_error(y_test,lin.predict(x_test_poly)))\n",
        "print(rmse)"
      ],
      "metadata": {
        "colab": {
          "base_uri": "https://localhost:8080/"
        },
        "id": "eTj-3cKGOicM",
        "outputId": "b5bb8af8-17af-4bdd-f1bf-d8e7a4e20479"
      },
      "execution_count": null,
      "outputs": [
        {
          "output_type": "stream",
          "name": "stdout",
          "text": [
            "10.246799889212012\n",
            "10.914473718183016\n"
          ]
        }
      ]
    },
    {
      "cell_type": "code",
      "source": [
        "x_poly.shape"
      ],
      "metadata": {
        "colab": {
          "base_uri": "https://localhost:8080/"
        },
        "id": "rfGHcTbcVL4e",
        "outputId": "38ca6e04-9c9d-4419-8d98-618f36e85715"
      },
      "execution_count": null,
      "outputs": [
        {
          "output_type": "execute_result",
          "data": {
            "text/plain": [
              "(70, 3)"
            ]
          },
          "metadata": {},
          "execution_count": 64
        }
      ]
    },
    {
      "cell_type": "code",
      "source": [
        "x_poly"
      ],
      "metadata": {
        "colab": {
          "base_uri": "https://localhost:8080/"
        },
        "id": "P7A0pqHjVOIM",
        "outputId": "91cced88-0cb9-4dab-a8cd-64b4da87f81e"
      },
      "execution_count": null,
      "outputs": [
        {
          "output_type": "execute_result",
          "data": {
            "text/plain": [
              "array([[1.00000000e+00, 5.89107320e+01, 3.47047435e+03],\n",
              "       [1.00000000e+00, 6.52300125e+01, 4.25495453e+03],\n",
              "       [1.00000000e+00, 6.33690038e+01, 4.01563064e+03],\n",
              "       [1.00000000e+00, 6.44799974e+01, 4.15767007e+03],\n",
              "       [1.00000000e+00, 6.17930961e+01, 3.81838673e+03],\n",
              "       [1.00000000e+00, 6.59680190e+01, 4.35177952e+03],\n",
              "       [1.00000000e+00, 6.28503786e+01, 3.95017010e+03],\n",
              "       [1.00000000e+00, 6.56521564e+01, 4.31020564e+03],\n",
              "       [1.00000000e+00, 6.18902337e+01, 3.83040103e+03],\n",
              "       [1.00000000e+00, 6.36778682e+01, 4.05487089e+03],\n",
              "       [1.00000000e+00, 6.81011722e+01, 4.63776966e+03],\n",
              "       [1.00000000e+00, 6.17988785e+01, 3.81910139e+03],\n",
              "       [1.00000000e+00, 6.33714590e+01, 4.01594181e+03],\n",
              "       [1.00000000e+00, 5.88958864e+01, 3.46872543e+03],\n",
              "       [1.00000000e+00, 5.84382491e+01, 3.41502896e+03],\n",
              "       [1.00000000e+00, 6.08097987e+01, 3.69783162e+03],\n",
              "       [1.00000000e+00, 7.01286528e+01, 4.91802795e+03],\n",
              "       [1.00000000e+00, 6.22574296e+01, 3.87598755e+03],\n",
              "       [1.00000000e+00, 6.17350902e+01, 3.81122136e+03],\n",
              "       [1.00000000e+00, 6.30595567e+01, 3.97650769e+03],\n",
              "       [1.00000000e+00, 6.22868384e+01, 3.87965023e+03],\n",
              "       [1.00000000e+00, 6.18274776e+01, 3.82263698e+03],\n",
              "       [1.00000000e+00, 6.63475372e+01, 4.40199569e+03],\n",
              "       [1.00000000e+00, 6.53206320e+01, 4.26678497e+03],\n",
              "       [1.00000000e+00, 6.61038728e+01, 4.36972200e+03],\n",
              "       [1.00000000e+00, 6.45271820e+01, 4.16375722e+03],\n",
              "       [1.00000000e+00, 5.65479750e+01, 3.19767347e+03],\n",
              "       [1.00000000e+00, 6.27392809e+01, 3.93621737e+03],\n",
              "       [1.00000000e+00, 6.15851986e+01, 3.79273669e+03],\n",
              "       [1.00000000e+00, 6.20244248e+01, 3.84702928e+03],\n",
              "       [1.00000000e+00, 6.53113341e+01, 4.26557037e+03],\n",
              "       [1.00000000e+00, 6.12049561e+01, 3.74604665e+03],\n",
              "       [1.00000000e+00, 6.70250935e+01, 4.49236316e+03],\n",
              "       [1.00000000e+00, 6.02111666e+01, 3.62538458e+03],\n",
              "       [1.00000000e+00, 6.39399728e+01, 4.08832012e+03],\n",
              "       [1.00000000e+00, 6.33578052e+01, 4.01421147e+03],\n",
              "       [1.00000000e+00, 6.36850684e+01, 4.05578794e+03],\n",
              "       [1.00000000e+00, 6.02888704e+01, 3.63474789e+03],\n",
              "       [1.00000000e+00, 6.34072898e+01, 4.02048440e+03],\n",
              "       [1.00000000e+00, 6.06316001e+01, 3.67619093e+03],\n",
              "       [1.00000000e+00, 6.73735966e+01, 4.53920152e+03],\n",
              "       [1.00000000e+00, 6.68727416e+01, 4.47196357e+03],\n",
              "       [1.00000000e+00, 6.00471472e+01, 3.60565989e+03],\n",
              "       [1.00000000e+00, 6.41544723e+01, 4.11579631e+03],\n",
              "       [1.00000000e+00, 6.34616649e+01, 4.02738291e+03],\n",
              "       [1.00000000e+00, 6.72438679e+01, 4.52173778e+03],\n",
              "       [1.00000000e+00, 6.62135945e+01, 4.38424010e+03],\n",
              "       [1.00000000e+00, 6.46928214e+01, 4.18516114e+03],\n",
              "       [1.00000000e+00, 6.61992833e+01, 4.38234511e+03],\n",
              "       [1.00000000e+00, 6.58533758e+01, 4.33666711e+03],\n",
              "       [1.00000000e+00, 6.50495202e+01, 4.23144008e+03],\n",
              "       [1.00000000e+00, 6.44776151e+01, 4.15736286e+03],\n",
              "       [1.00000000e+00, 6.25400773e+01, 3.91126127e+03],\n",
              "       [1.00000000e+00, 6.15962316e+01, 3.79409575e+03],\n",
              "       [1.00000000e+00, 6.09503289e+01, 3.71494259e+03],\n",
              "       [1.00000000e+00, 6.35532238e+01, 4.03901226e+03],\n",
              "       [1.00000000e+00, 6.22483464e+01, 3.87485662e+03],\n",
              "       [1.00000000e+00, 6.61905908e+01, 4.38119432e+03],\n",
              "       [1.00000000e+00, 6.25480580e+01, 3.91225956e+03],\n",
              "       [1.00000000e+00, 6.66298343e+01, 4.43953482e+03],\n",
              "       [1.00000000e+00, 5.96085601e+01, 3.55318044e+03],\n",
              "       [1.00000000e+00, 6.44933948e+01, 4.15939797e+03],\n",
              "       [1.00000000e+00, 6.49365559e+01, 4.21675629e+03],\n",
              "       [1.00000000e+00, 6.13792585e+01, 3.76741337e+03],\n",
              "       [1.00000000e+00, 6.60707872e+01, 4.36534892e+03],\n",
              "       [1.00000000e+00, 6.39144317e+01, 4.08505457e+03],\n",
              "       [1.00000000e+00, 6.96198060e+01, 4.84691739e+03],\n",
              "       [1.00000000e+00, 6.71815359e+01, 4.51335876e+03],\n",
              "       [1.00000000e+00, 6.33990508e+01, 4.01943965e+03],\n",
              "       [1.00000000e+00, 6.12131715e+01, 3.74705236e+03]])"
            ]
          },
          "metadata": {},
          "execution_count": 65
        }
      ]
    },
    {
      "cell_type": "code",
      "source": [
        ""
      ],
      "metadata": {
        "id": "XjiON-PsVRjf"
      },
      "execution_count": null,
      "outputs": []
    }
  ]
}